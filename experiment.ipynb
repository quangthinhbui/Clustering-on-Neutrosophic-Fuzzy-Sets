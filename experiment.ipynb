{
 "cells": [
  {
   "cell_type": "code",
   "execution_count": 1,
   "outputs": [
    {
     "name": "stdout",
     "output_type": "stream",
     "text": [
      "[[[0.4  0.7  0.4  0.3 ]\n",
      "  [0.3  0.27 0.4  0.7 ]\n",
      "  [0.7  0.5  0.1  0.2 ]\n",
      "  [0.6  0.5  0.9  0.4 ]\n",
      "  [0.2  0.2  0.3  0.8 ]]\n",
      "\n",
      " [[0.6  0.5  0.8  0.2 ]\n",
      "  [0.25 0.15 0.36 0.78]\n",
      "  [0.8  0.9  0.   0.2 ]\n",
      "  [0.7  0.6  0.96 0.45]\n",
      "  [0.3  0.3  0.5  0.75]]\n",
      "\n",
      " [[0.3  0.9  0.1  0.1 ]\n",
      "  [0.6  0.3  0.6  0.9 ]\n",
      "  [0.65 0.25 0.4  0.5 ]\n",
      "  [0.76 0.72 0.85 0.3 ]\n",
      "  [0.35 0.3  0.45 0.87]]\n",
      "\n",
      " [[0.5  0.8  0.6  0.3 ]\n",
      "  [0.1  0.1  0.8  0.2 ]\n",
      "  [0.84 1.   0.5  0.  ]\n",
      "  [0.65 0.57 0.8  0.35]\n",
      "  [0.1  0.1  0.8  0.6 ]]\n",
      "\n",
      " [[0.7  0.65 0.2  0.8 ]\n",
      "  [0.2  0.2  0.45 0.65]\n",
      "  [0.5  0.7  0.4  0.6 ]\n",
      "  [0.5  0.4  0.7  0.6 ]\n",
      "  [0.8  0.7  0.2  0.3 ]]]\n"
     ]
    }
   ],
   "source": [
    "import numpy as np\n",
    "\n",
    "from input import *\n",
    "\n",
    "data = file(\"original.txt\")\n",
    "print(np.array(data))"
   ],
   "metadata": {
    "collapsed": false
   }
  },
  {
   "cell_type": "code",
   "execution_count": 2,
   "outputs": [
    {
     "data": {
      "text/plain": "0.6407167127412767"
     },
     "execution_count": 2,
     "metadata": {},
     "output_type": "execute_result"
    }
   ],
   "source": [
    "def si(a,b):\n",
    "    mi = [min(a[i],b[i]) for i in range(4)]\n",
    "    ma = [max(a[i],b[i]) for i in range(4)]\n",
    "    out = sum(mi)/sum(ma)\n",
    "    return out\n",
    "\n",
    "def sim(a,b):\n",
    "    temp = []\n",
    "    for i in range(len(a)):\n",
    "        temp.append(si(a[i],b[i]))\n",
    "    out = np.mean(temp)\n",
    "    return out\n",
    "\n",
    "sim(data[1],data[2])\n"
   ],
   "metadata": {
    "collapsed": false
   }
  },
  {
   "cell_type": "code",
   "execution_count": 3,
   "outputs": [
    {
     "data": {
      "text/plain": "[[1.0, 0.762, 0.688, 0.632, 0.619],\n [0.762, 1.0, 0.641, 0.65, 0.591],\n [0.688, 0.641, 1.0, 0.562, 0.565],\n [0.632, 0.65, 0.562, 1.0, 0.512],\n [0.619, 0.591, 0.565, 0.512, 1.0]]"
     },
     "execution_count": 3,
     "metadata": {},
     "output_type": "execute_result"
    }
   ],
   "source": [
    "def mm(a):\n",
    "    out = []\n",
    "    for i in range(len(a)):\n",
    "        temp = []\n",
    "        for j in range(len(a)):\n",
    "            temp.append(round(sim(a[i],a[j]),3))\n",
    "        out.append(temp)\n",
    "    return out\n",
    "mm(data)\n",
    "#print(mm(data))"
   ],
   "metadata": {
    "collapsed": false
   }
  },
  {
   "cell_type": "code",
   "execution_count": 4,
   "outputs": [
    {
     "data": {
      "text/plain": "[[1.0, 0.762, 0.688, 0.65, 0.619],\n [0.762, 1.0, 0.688, 0.65, 0.619],\n [0.688, 0.688, 1.0, 0.641, 0.619],\n [0.65, 0.65, 0.641, 1.0, 0.619],\n [0.619, 0.619, 0.619, 0.619, 1.0]]"
     },
     "execution_count": 4,
     "metadata": {},
     "output_type": "execute_result"
    }
   ],
   "source": [
    "def cm(a):\n",
    "    out = []\n",
    "    for i in range(len(a)):\n",
    "        temp = []\n",
    "        for j in range(len(a)):\n",
    "            t = [min(a[i][k],a[k][j]) for k in range(len(a))]\n",
    "            temp.append(max(t))\n",
    "        out.append(temp)\n",
    "    return out\n",
    "\n",
    "cm(mm(data))\n"
   ],
   "metadata": {
    "collapsed": false
   }
  },
  {
   "cell_type": "code",
   "execution_count": 5,
   "outputs": [
    {
     "name": "stdout",
     "output_type": "stream",
     "text": [
      "False\n",
      "True\n"
     ]
    }
   ],
   "source": [
    "def ecc(a):\n",
    "    count = 0\n",
    "    for i in range(len(a)):\n",
    "        temp = []\n",
    "        for j in range(len(a)):\n",
    "            t = [min(a[i][k],a[k][j]) for k in range(len(a))]\n",
    "            if max(t)<=a[i][j]:\n",
    "                temp.append(1)\n",
    "            else:\n",
    "                temp.append(0)\n",
    "        count+=sum(temp)\n",
    "    return count==len(a)**2\n",
    "\n",
    "print(ecc(cm(mm(data))))\n",
    "print(ecc(cm(cm(mm(data)))))"
   ],
   "metadata": {
    "collapsed": false
   }
  },
  {
   "cell_type": "code",
   "execution_count": 6,
   "outputs": [
    {
     "data": {
      "text/plain": "[[1.0, 0.762, 0.688, 0.65, 0.619],\n [0.762, 1.0, 0.688, 0.65, 0.619],\n [0.688, 0.688, 1.0, 0.65, 0.619],\n [0.65, 0.65, 0.65, 1.0, 0.619],\n [0.619, 0.619, 0.619, 0.619, 1.0]]"
     },
     "execution_count": 6,
     "metadata": {},
     "output_type": "execute_result"
    }
   ],
   "source": [
    "def ecm(a):\n",
    "    while ecc(a)==0:\n",
    "        a = cm(a)\n",
    "    return a\n",
    "\n",
    "ecm(mm(data))"
   ],
   "metadata": {
    "collapsed": false
   }
  },
  {
   "cell_type": "code",
   "execution_count": 7,
   "outputs": [
    {
     "name": "stdout",
     "output_type": "stream",
     "text": [
      "[0.619, 0.65, 0.688, 0.762, 1.0]\n"
     ]
    }
   ],
   "source": [
    "def cl(a):\n",
    "    temp = []\n",
    "    for i in range(len(a)):\n",
    "        temp+= a[i]\n",
    "    out = sorted(list(set(temp)))\n",
    "    return out\n",
    "\n",
    "print(cl(ecm(mm(data))))"
   ],
   "metadata": {
    "collapsed": false
   }
  },
  {
   "cell_type": "code",
   "execution_count": 8,
   "outputs": [
    {
     "data": {
      "text/plain": "[[1, 1, 1, 0, 0],\n [1, 1, 1, 0, 0],\n [1, 1, 1, 0, 0],\n [0, 0, 0, 1, 0],\n [0, 0, 0, 0, 1]]"
     },
     "execution_count": 8,
     "metadata": {},
     "output_type": "execute_result"
    }
   ],
   "source": [
    "def cum(a,ld):\n",
    "    out = []\n",
    "    for i in range(len(a)):\n",
    "        temp = []\n",
    "        for j in range(len(a)):\n",
    "            if a[i][j] >= ld:\n",
    "                temp.append(1)\n",
    "            else:\n",
    "                temp.append(0)\n",
    "        out.append(temp)\n",
    "    return out\n",
    "\n",
    "cum(ecm(mm(data)),.688)"
   ],
   "metadata": {
    "collapsed": false
   }
  },
  {
   "cell_type": "code",
   "execution_count": 9,
   "outputs": [
    {
     "name": "stdout",
     "output_type": "stream",
     "text": [
      "[[1 1 0 0 0]\n",
      " [1 1 0 0 1]\n",
      " [0 0 1 0 0]\n",
      " [0 0 0 1 0]\n",
      " [0 1 0 0 1]]\n"
     ]
    }
   ],
   "source": [
    "test = [\n",
    "    [1, 1, 0, 0, 0],[1, 1, 0, 0, 1],[0, 0, 1, 0, 0],[0, 0, 0, 1, 0],[0, 1, 0, 0, 1]\n",
    "]\n",
    "print(np.array(test))"
   ],
   "metadata": {
    "collapsed": false
   }
  },
  {
   "cell_type": "code",
   "execution_count": 10,
   "outputs": [
    {
     "name": "stdout",
     "output_type": "stream",
     "text": [
      "[0, 0, 0, 0, 0]\n",
      "0 1\n",
      "[1, 1, 0, 0, 0] [1]\n",
      "0 2\n",
      "[1, 1, 1, 0, 0] [1, 2]\n",
      "[1, 1, 1, 0, 0]\n",
      "1 2\n",
      "[1, 1, 1, 0, 0] [1, 2, 2]\n",
      "[1, 1, 1, 0, 0]\n",
      "[1, 1, 1, 0, 0]\n",
      "[1, 1, 1, 2, 0]\n"
     ]
    },
    {
     "data": {
      "text/plain": "[1, 1, 1, 2, 3]"
     },
     "execution_count": 10,
     "metadata": {},
     "output_type": "execute_result"
    }
   ],
   "source": [
    "def label(a):\n",
    "    out = [0]*len(a)\n",
    "    gr = 1\n",
    "    dele = []\n",
    "    for i in range(len(a)):\n",
    "        print(out)\n",
    "        if i in dele:\n",
    "            for j in range(len(a)):\n",
    "                if (j>i) and (a[i][j] == 1):\n",
    "                    print(i,j)\n",
    "                    dele.append(j)\n",
    "                    out[j] = out[i]\n",
    "                    print(out,dele)\n",
    "        if i not in dele:\n",
    "            out[i] = gr\n",
    "            for j in range(len(a)):\n",
    "                if (j>i) and (a[i][j] == 1):\n",
    "                    print(i,j)\n",
    "                    dele.append(j)\n",
    "                    out[j] = out[i]\n",
    "                    print(out,dele)\n",
    "            gr += 1\n",
    "    return out\n",
    "#label(test)\n",
    "label(cum(ecm(mm(data)),.688))"
   ],
   "metadata": {
    "collapsed": false
   }
  },
  {
   "cell_type": "code",
   "execution_count": 11,
   "outputs": [
    {
     "name": "stdout",
     "output_type": "stream",
     "text": [
      "[[0, 1], [1, 4], [2], [3], [4]]\n",
      "[[0, 1], [1, 4], [2], [3], [4]]\n"
     ]
    }
   ],
   "source": [
    "def par(a):\n",
    "    out = []\n",
    "    for i in range(len(a)):\n",
    "        temp = []\n",
    "        for j in range(len(a)):\n",
    "            if (j>=i) and (a[i][j] == 1):\n",
    "                temp.append(j)\n",
    "        out.append(temp)\n",
    "    print(out)\n",
    "    for i in range(len(out)):\n",
    "        if len(out[i])==1:\n",
    "            for j in range(len(out)):\n",
    "                if out[i][0] in out[j] and len(out[i])!=1:\n",
    "                    out.remove(j)\n",
    "    return out\n",
    "\n",
    "print(par(test))"
   ],
   "metadata": {
    "collapsed": false
   }
  },
  {
   "cell_type": "code",
   "execution_count": 12,
   "outputs": [
    {
     "name": "stdout",
     "output_type": "stream",
     "text": [
      "thinh 0\n",
      "[1, 1, 0, 0, 0]\n",
      "thinh 1\n",
      "thinh 2\n",
      "[1, 1, 2, 0, 0]\n",
      "2 0\n",
      "2 1\n",
      "2 2\n",
      "2 3\n",
      "2 4\n",
      "thinh 3\n",
      "[1, 1, 2, 2, 0]\n",
      "3 0\n",
      "3 1\n",
      "3 2\n",
      "3 3\n",
      "3 4\n",
      "thinh 4\n",
      "[1, 1, 2, 2, 2]\n",
      "4 0\n",
      "4 1\n",
      "4 2\n",
      "4 3\n",
      "4 4\n"
     ]
    },
    {
     "data": {
      "text/plain": "[1, 1, 2, 2, 2]"
     },
     "execution_count": 12,
     "metadata": {},
     "output_type": "execute_result"
    }
   ],
   "source": [
    "def par(a):\n",
    "    out = [0]*len(a)\n",
    "    gr = 1\n",
    "    for i in range(len(a)):\n",
    "        print(\"thinh\",i)\n",
    "        if i == 0:\n",
    "            out[i] = gr\n",
    "            for j in range(len(a)):\n",
    "                if a[i][j] == 1:\n",
    "                    out[j] = gr\n",
    "            print(out)\n",
    "        else:\n",
    "            if out[i]==0:\n",
    "                out[i] = gr+1\n",
    "                print(out)\n",
    "                for j in range(len(a)):\n",
    "                    print(i,j)\n",
    "                    if j>i and a[i][j] == 1:\n",
    "                        if out[j] == 0:\n",
    "                            out[j] = gr+1\n",
    "                        else:\n",
    "                            out[j] = out[i]\n",
    "    return out\n",
    "\n",
    "par(test)"
   ],
   "metadata": {
    "collapsed": false
   }
  },
  {
   "cell_type": "code",
   "execution_count": 12,
   "outputs": [],
   "source": [],
   "metadata": {
    "collapsed": false
   }
  }
 ],
 "metadata": {
  "kernelspec": {
   "display_name": "Python 3",
   "language": "python",
   "name": "python3"
  },
  "language_info": {
   "codemirror_mode": {
    "name": "ipython",
    "version": 2
   },
   "file_extension": ".py",
   "mimetype": "text/x-python",
   "name": "python",
   "nbconvert_exporter": "python",
   "pygments_lexer": "ipython2",
   "version": "2.7.6"
  }
 },
 "nbformat": 4,
 "nbformat_minor": 0
}
