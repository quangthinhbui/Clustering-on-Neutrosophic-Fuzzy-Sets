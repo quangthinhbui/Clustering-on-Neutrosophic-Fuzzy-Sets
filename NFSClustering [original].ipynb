{
 "cells": [
  {
   "cell_type": "code",
   "execution_count": 1,
   "metadata": {
    "collapsed": true
   },
   "outputs": [],
   "source": [
    "from original import *\n",
    "from similarity import *"
   ]
  },
  {
   "cell_type": "code",
   "execution_count": 2,
   "outputs": [
    {
     "name": "stdout",
     "output_type": "stream",
     "text": [
      "[[0.9 0.7 0.5 0.6]\n",
      " [0.5 0.3 0.9 0.5]\n",
      " [0.2 0.1 0.4 0.7]\n",
      " [0.7 0.5 0.9 0.6]\n",
      " [0.7 0.3 0.9 0.1]]\n"
     ]
    }
   ],
   "source": [
    "a = f(\"a.txt\")\n",
    "print(np.array(a))"
   ],
   "metadata": {
    "collapsed": false
   }
  },
  {
   "cell_type": "code",
   "execution_count": 3,
   "outputs": [
    {
     "name": "stdout",
     "output_type": "stream",
     "text": [
      "[[0.1 0.6 0.5 0.7]\n",
      " [0.5 0.5 0.1 0.3]\n",
      " [0.8 0.7 0.6 0.1]\n",
      " [0.3 0.6 0.1 0.5]\n",
      " [0.3 0.1 0.1 0.3]]\n"
     ]
    }
   ],
   "source": [
    "ac = complement(a)\n",
    "print(np.array(ac))"
   ],
   "metadata": {
    "collapsed": false
   }
  },
  {
   "cell_type": "code",
   "execution_count": 4,
   "outputs": [
    {
     "name": "stdout",
     "output_type": "stream",
     "text": [
      "[[0.7 0.3 0.4 0.3]\n",
      " [0.4 0.3 0.2 0.3]\n",
      " [0.5 0.1 0.8 0.8]\n",
      " [0.2 0.1 0.9 0.3]\n",
      " [0.8 0.5 0.8 0.8]]\n"
     ]
    }
   ],
   "source": [
    "b = f(\"b.txt\")\n",
    "print(np.array(b))"
   ],
   "metadata": {
    "collapsed": false
   }
  },
  {
   "cell_type": "code",
   "execution_count": 5,
   "outputs": [
    {
     "name": "stdout",
     "output_type": "stream",
     "text": [
      "[[0.3 0.3 0.6 0.3]\n",
      " [0.6 0.3 0.8 0.3]\n",
      " [0.5 0.8 0.2 0.1]\n",
      " [0.8 0.3 0.1 0.1]\n",
      " [0.2 0.8 0.2 0.5]]\n"
     ]
    }
   ],
   "source": [
    "bc = complement(b)\n",
    "print(np.array(bc))"
   ],
   "metadata": {
    "collapsed": false
   }
  },
  {
   "cell_type": "code",
   "execution_count": 6,
   "outputs": [
    {
     "name": "stdout",
     "output_type": "stream",
     "text": [
      "0\n"
     ]
    }
   ],
   "source": [
    "sub = issubset(a,b)\n",
    "print(sub)"
   ],
   "metadata": {
    "collapsed": false
   }
  },
  {
   "cell_type": "code",
   "execution_count": 7,
   "outputs": [
    {
     "name": "stdout",
     "output_type": "stream",
     "text": [
      "[[0.7 0.3 0.5 0.6]\n",
      " [0.4 0.3 0.9 0.5]\n",
      " [0.2 0.1 0.8 0.8]\n",
      " [0.2 0.1 0.9 0.6]\n",
      " [0.7 0.3 0.9 0.8]]\n"
     ]
    }
   ],
   "source": [
    "its = intersection(a,b)\n",
    "print(np.array(its))"
   ],
   "metadata": {
    "collapsed": false
   }
  },
  {
   "cell_type": "code",
   "execution_count": 8,
   "outputs": [
    {
     "name": "stdout",
     "output_type": "stream",
     "text": [
      "[[0.9 0.7 0.4 0.3]\n",
      " [0.5 0.3 0.2 0.3]\n",
      " [0.5 0.1 0.4 0.7]\n",
      " [0.7 0.5 0.9 0.3]\n",
      " [0.8 0.5 0.8 0.1]]\n"
     ]
    }
   ],
   "source": [
    "uno = union(a,b)\n",
    "print(np.array(uno))"
   ],
   "metadata": {
    "collapsed": false
   }
  },
  {
   "cell_type": "code",
   "execution_count": 9,
   "outputs": [
    {
     "name": "stdout",
     "output_type": "stream",
     "text": [
      "0.747 0.747\n",
      "0.596 0.596\n",
      "0.775 0.764\n",
      "0.77 0.748\n",
      "0.444 0.444\n",
      "0.418 0.418\n"
     ]
    }
   ],
   "source": [
    "sdbs1 = round(sim_dbs(a,its),3)\n",
    "sdbs2 = round(sim_dbs(b,uno),3)\n",
    "sdbd1 = round(sim_dbd(a,its),3)\n",
    "sdbd2 = round(sim_dbd(b,uno),3)\n",
    "smmm1 = round(sim_mmm(a,its),3)\n",
    "smmm2 = round(sim_mmm(b,uno),3)\n",
    "srmm1 = round(sim_rmm(a,its),3)\n",
    "srmm2 = round(sim_rmm(b,uno),3)\n",
    "smms1 = round(sim_mms(a,its),3)\n",
    "smms2 = round(sim_mms(b,uno),3)\n",
    "smrms1 = round(sim_mrms(a,its),3)\n",
    "smrms2 = round(sim_mrms(b,uno),3)\n",
    "print(sdbs1,sdbs2)\n",
    "print(sdbd1,sdbd2)\n",
    "print(smmm1,smmm2)\n",
    "print(srmm1,srmm2)\n",
    "print(smms1,smms2)\n",
    "print(smrms1,smrms2)"
   ],
   "metadata": {
    "collapsed": false
   }
  },
  {
   "cell_type": "code",
   "execution_count": 10,
   "outputs": [
    {
     "name": "stdout",
     "output_type": "stream",
     "text": [
      "0.791 0.791\n",
      "0.655 0.655\n",
      "0.796 0.789\n",
      "0.802 0.795\n",
      "0.528 0.528\n",
      "0.495 0.495\n"
     ]
    }
   ],
   "source": [
    "sdbs3 = round(sim_dbs(a,uno),3)\n",
    "sdbs4 = round(sim_dbs(b,its),3)\n",
    "sdbd3 = round(sim_dbd(a,uno),3)\n",
    "sdbd4 = round(sim_dbd(b,its),3)\n",
    "smmm3 = round(sim_mmm(a,uno),3)\n",
    "smmm4 = round(sim_mmm(b,its),3)\n",
    "srmm3 = round(sim_rmm(a,uno),3)\n",
    "srmm4 = round(sim_rmm(b,its),3)\n",
    "smms3 = round(sim_mms(a,uno),3)\n",
    "smms4 = round(sim_mms(b,its),3)\n",
    "smrms3 = round(sim_mrms(a,uno),3)\n",
    "smrms4 = round(sim_mrms(b,its),3)\n",
    "print(sdbs3,sdbs4)\n",
    "print(sdbd3,sdbd4)\n",
    "print(smmm3,smmm4)\n",
    "print(srmm3,srmm4)\n",
    "print(smms3,smms4)\n",
    "print(smrms3,smrms4)"
   ],
   "metadata": {
    "collapsed": false
   }
  },
  {
   "cell_type": "code",
   "execution_count": 11,
   "outputs": [
    {
     "name": "stdout",
     "output_type": "stream",
     "text": [
      "0.672 0.672\n",
      "0.506 0.506\n",
      "0.6 0.6\n",
      "0.602 0.602\n",
      "0.303 0.303\n",
      "0.294 0.294\n"
     ]
    }
   ],
   "source": [
    "sdbs5 = round(sim_dbs(its,uno),3)\n",
    "sdbs6 = round(sim_dbs(a,b),3)\n",
    "sdbd5 = round(sim_dbd(its,uno),3)\n",
    "sdbd6 = round(sim_dbd(a,b),3)\n",
    "smmm5 = round(sim_mmm(its,uno),3)\n",
    "smmm6 = round(sim_mmm(a,b),3)\n",
    "srmm5 = round(sim_rmm(its,uno),3)\n",
    "srmm6 = round(sim_rmm(a,b),3)\n",
    "smms5 = round(sim_mms(its,uno),3)\n",
    "smms6 = round(sim_mms(a,b),3)\n",
    "smrms5 = round(sim_mrms(its,uno),3)\n",
    "smrms6 = round(sim_mrms(a,b),3)\n",
    "print(sdbs5,sdbs6)\n",
    "print(sdbd5,sdbd6)\n",
    "print(smmm5,smmm6)\n",
    "print(srmm5,srmm6)\n",
    "print(smms5,smms6)\n",
    "print(smrms5,smrms5)"
   ],
   "metadata": {
    "collapsed": false
   }
  },
  {
   "cell_type": "code",
   "execution_count": 12,
   "outputs": [
    {
     "name": "stdout",
     "output_type": "stream",
     "text": [
      "0.255 0.328 0.509 0.54\n"
     ]
    }
   ],
   "source": [
    "d1 = round(dp(1,a,b),3)\n",
    "d2 = round(dp(2,a,b),3)\n",
    "d7 = round(dp(7,a,b),3)\n",
    "d8 = round(dvc(a,b),3)\n",
    "print(d1,d2,d7,d8)"
   ],
   "metadata": {
    "collapsed": false
   }
  },
  {
   "cell_type": "code",
   "execution_count": 13,
   "outputs": [
    {
     "name": "stdout",
     "output_type": "stream",
     "text": [
      "0.934 0.934\n",
      "0.86 0.86\n",
      "0.894 0.894\n",
      "0.813 0.813\n",
      "0.796 0.796\n",
      "0.783 0.783\n",
      "0.971 0.971\n",
      "0.889 0.889\n",
      "0.805 0.805\n"
     ]
    }
   ],
   "source": [
    "#ta = f(\"test_a.txt\")\n",
    "#tb = f(\"test_b.txt\")\n",
    "\n",
    "s11 = round(s1(a,its),3)\n",
    "s12 = round(s1(b,uno),3)\n",
    "s21 = round(s2(a,its),3)\n",
    "s22 = round(s2(b,uno),3)\n",
    "s31 = round(s3(a,its),3)\n",
    "s32 = round(s3(b,uno),3)\n",
    "s41 = round(s4(a,its),3)\n",
    "s42 = round(s4(b,uno),3)\n",
    "s51 = round(s5(a,its),3)\n",
    "s52 = round(s5(b,uno),3)\n",
    "s61 = round(s6(a,its),3)\n",
    "s62 = round(s6(b,uno),3)\n",
    "s71 = round(s7(a,its),3)\n",
    "s72 = round(s7(b,uno),3)\n",
    "s81 = round(s8(a,its),3)\n",
    "s82 = round(s8(b,uno),3)\n",
    "s91 = round(s9(a,its),3)\n",
    "s92 = round(s9(b,uno),3)\n",
    "print(s11,s12)\n",
    "print(s21,s22)\n",
    "print(s31,s32)\n",
    "print(s41,s42)\n",
    "print(s51,s52)\n",
    "print(s61,s62)\n",
    "print(s71,s72)\n",
    "print(s81,s82)\n",
    "print(s91,s92)"
   ],
   "metadata": {
    "collapsed": false
   }
  },
  {
   "cell_type": "code",
   "execution_count": 14,
   "outputs": [
    {
     "name": "stdout",
     "output_type": "stream",
     "text": [
      "0.955 0.955\n",
      "0.885 0.885\n",
      "0.914 0.914\n",
      "0.845 0.845\n",
      "0.83 0.83\n",
      "0.821 0.821\n",
      "0.98 0.98\n",
      "0.909 0.909\n",
      "0.836 0.836\n"
     ]
    }
   ],
   "source": [
    "s13 = round(s1(a,uno),3)\n",
    "s14 = round(s1(b,its),3)\n",
    "s23 = round(s2(a,uno),3)\n",
    "s24 = round(s2(b,its),3)\n",
    "s33 = round(s3(a,uno),3)\n",
    "s34 = round(s3(b,its),3)\n",
    "s43 = round(s4(a,uno),3)\n",
    "s44 = round(s4(b,its),3)\n",
    "s53 = round(s5(a,uno),3)\n",
    "s54 = round(s5(b,its),3)\n",
    "s63 = round(s6(a,uno),3)\n",
    "s64 = round(s6(b,its),3)\n",
    "s73 = round(s7(a,uno),3)\n",
    "s74 = round(s7(b,its),3)\n",
    "s83 = round(s8(a,uno),3)\n",
    "s84 = round(s8(b,its),3)\n",
    "s93 = round(s9(a,uno),3)\n",
    "s94 = round(s9(b,its),3)\n",
    "\n",
    "print(s13,s14)\n",
    "print(s23,s24)\n",
    "print(s33,s34)\n",
    "print(s43,s44)\n",
    "print(s53,s54)\n",
    "print(s63,s64)\n",
    "print(s73,s74)\n",
    "print(s83,s84)\n",
    "print(s93,s94)"
   ],
   "metadata": {
    "collapsed": false
   }
  },
  {
   "cell_type": "code",
   "execution_count": 15,
   "outputs": [
    {
     "name": "stdout",
     "output_type": "stream",
     "text": [
      "0.889 0.889\n",
      "0.745 0.745\n",
      "0.803 0.803\n",
      "0.673 0.673\n",
      "0.645 0.645\n",
      "0.611 0.611\n",
      "0.92 0.92\n",
      "0.797 0.797\n",
      "0.663 0.663\n"
     ]
    }
   ],
   "source": [
    "s15 = round(s1(its,uno),3)\n",
    "s16 = round(s1(a,b),3)\n",
    "s25 = round(s2(its,uno),3)\n",
    "s26 = round(s2(a,b),3)\n",
    "s35 = round(s3(its,uno),3)\n",
    "s36 = round(s3(a,b),3)\n",
    "s45 = round(s4(its,uno),3)\n",
    "s46 = round(s4(a,b),3)\n",
    "s55 = round(s5(its,uno),3)\n",
    "s56 = round(s5(a,b),3)\n",
    "s65 = round(s6(its,uno),3)\n",
    "s66 = round(s6(a,b),3)\n",
    "s75 = round(s7(its,uno),3)\n",
    "s76 = round(s7(a,b),3)\n",
    "s85 = round(s8(its,uno),3)\n",
    "s86 = round(s8(a,b),3)\n",
    "s95 = round(s9(its,uno),3)\n",
    "s96 = round(s9(a,b),3)\n",
    "\n",
    "print(s15,s16)\n",
    "print(s25,s26)\n",
    "print(s35,s36)\n",
    "print(s45,s46)\n",
    "print(s55,s56)\n",
    "print(s65,s66)\n",
    "print(s75,s76)\n",
    "print(s85,s86)\n",
    "print(s95,s96)"
   ],
   "metadata": {
    "collapsed": false
   }
  },
  {
   "cell_type": "code",
   "execution_count": null,
   "outputs": [],
   "source": [],
   "metadata": {
    "collapsed": false
   }
  }
 ],
 "metadata": {
  "kernelspec": {
   "display_name": "Python 3",
   "language": "python",
   "name": "python3"
  },
  "language_info": {
   "codemirror_mode": {
    "name": "ipython",
    "version": 2
   },
   "file_extension": ".py",
   "mimetype": "text/x-python",
   "name": "python",
   "nbconvert_exporter": "python",
   "pygments_lexer": "ipython2",
   "version": "2.7.6"
  }
 },
 "nbformat": 4,
 "nbformat_minor": 0
}
