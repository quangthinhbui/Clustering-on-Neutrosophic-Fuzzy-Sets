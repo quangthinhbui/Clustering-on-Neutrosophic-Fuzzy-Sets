{
 "cells": [
  {
   "cell_type": "code",
   "execution_count": 91,
   "metadata": {
    "collapsed": true
   },
   "outputs": [],
   "source": [
    "from evaluation import *"
   ]
  },
  {
   "cell_type": "code",
   "execution_count": 92,
   "outputs": [
    {
     "name": "stdout",
     "output_type": "stream",
     "text": [
      "[[[0.4  0.7  0.4  0.3 ]\n",
      "  [0.3  0.27 0.4  0.7 ]\n",
      "  [0.7  0.5  0.1  0.2 ]\n",
      "  [0.6  0.5  0.9  0.4 ]\n",
      "  [0.2  0.2  0.3  0.8 ]]\n",
      "\n",
      " [[0.6  0.5  0.8  0.2 ]\n",
      "  [0.25 0.15 0.36 0.78]\n",
      "  [0.8  0.9  0.   0.2 ]\n",
      "  [0.7  0.6  0.96 0.45]\n",
      "  [0.3  0.3  0.5  0.75]]\n",
      "\n",
      " [[0.3  0.9  0.1  0.1 ]\n",
      "  [0.6  0.3  0.6  0.9 ]\n",
      "  [0.65 0.25 0.4  0.5 ]\n",
      "  [0.76 0.72 0.85 0.3 ]\n",
      "  [0.35 0.3  0.45 0.87]]\n",
      "\n",
      " [[0.5  0.8  0.6  0.3 ]\n",
      "  [0.1  0.1  0.8  0.2 ]\n",
      "  [0.84 1.   0.5  0.  ]\n",
      "  [0.65 0.57 0.8  0.35]\n",
      "  [0.1  0.1  0.8  0.6 ]]\n",
      "\n",
      " [[0.7  0.65 0.2  0.8 ]\n",
      "  [0.2  0.2  0.45 0.65]\n",
      "  [0.5  0.7  0.4  0.6 ]\n",
      "  [0.5  0.4  0.7  0.6 ]\n",
      "  [0.8  0.7  0.2  0.3 ]]]\n"
     ]
    }
   ],
   "source": [
    "data = file(\"original.txt\")\n",
    "print(np.array(data))"
   ],
   "metadata": {
    "collapsed": false
   }
  },
  {
   "cell_type": "code",
   "execution_count": 93,
   "outputs": [
    {
     "name": "stdout",
     "output_type": "stream",
     "text": [
      "1.0\n"
     ]
    }
   ],
   "source": [
    "sim = sim_mms(data[1],data[1])\n",
    "print(sim)"
   ],
   "metadata": {
    "collapsed": false
   }
  },
  {
   "cell_type": "code",
   "execution_count": 94,
   "outputs": [
    {
     "name": "stdout",
     "output_type": "stream",
     "text": [
      "[[1.    0.756 0.746 0.64  0.64 ]\n",
      " [0.756 1.    0.606 0.632 0.622]\n",
      " [0.746 0.606 1.    0.51  0.512]\n",
      " [0.64  0.632 0.51  1.    0.5  ]\n",
      " [0.64  0.622 0.512 0.5   1.   ]]\n"
     ]
    }
   ],
   "source": [
    "memat = mmat(data,\"dvc1\")\n",
    "print(np.array(memat))"
   ],
   "metadata": {
    "collapsed": false
   }
  },
  {
   "cell_type": "code",
   "execution_count": 95,
   "outputs": [
    {
     "name": "stdout",
     "output_type": "stream",
     "text": [
      "[[1.    0.756 0.746 0.64  0.64 ]\n",
      " [0.756 1.    0.746 0.64  0.64 ]\n",
      " [0.746 0.746 1.    0.64  0.64 ]\n",
      " [0.64  0.64  0.64  1.    0.64 ]\n",
      " [0.64  0.64  0.64  0.64  1.   ]]\n"
     ]
    }
   ],
   "source": [
    "comat = cmat(memat)\n",
    "print(np.array(comat))"
   ],
   "metadata": {
    "collapsed": false
   }
  },
  {
   "cell_type": "code",
   "execution_count": 96,
   "outputs": [
    {
     "name": "stdout",
     "output_type": "stream",
     "text": [
      "[[1.    0.756 0.746 0.64  0.64 ]\n",
      " [0.756 1.    0.746 0.64  0.64 ]\n",
      " [0.746 0.746 1.    0.64  0.64 ]\n",
      " [0.64  0.64  0.64  1.    0.64 ]\n",
      " [0.64  0.64  0.64  0.64  1.   ]]\n"
     ]
    }
   ],
   "source": [
    "eqvmat = emat(memat)\n",
    "print(np.array(eqvmat))"
   ],
   "metadata": {
    "collapsed": false
   }
  },
  {
   "cell_type": "code",
   "execution_count": 97,
   "outputs": [
    {
     "name": "stdout",
     "output_type": "stream",
     "text": [
      "[0.64, 0.746, 0.756, 1.0]\n",
      "[[1 1 0 0 0]\n",
      " [1 1 0 0 0]\n",
      " [0 0 1 0 0]\n",
      " [0 0 0 1 0]\n",
      " [0 0 0 0 1]]\n"
     ]
    }
   ],
   "source": [
    "print(lbd(eqvmat))\n",
    "lctmat = lcmat(eqvmat,0.75)\n",
    "print(np.array(lctmat))"
   ],
   "metadata": {
    "collapsed": false
   }
  },
  {
   "cell_type": "code",
   "execution_count": 98,
   "outputs": [
    {
     "name": "stdout",
     "output_type": "stream",
     "text": [
      "[0, 0, 1, 2, 3]\n"
     ]
    }
   ],
   "source": [
    "clabel = label(lctmat)\n",
    "print(clabel)"
   ],
   "metadata": {
    "collapsed": false
   }
  },
  {
   "cell_type": "code",
   "execution_count": 99,
   "outputs": [
    {
     "name": "stdout",
     "output_type": "stream",
     "text": [
      "[[0, 1], [2], [3], [4]]\n"
     ]
    }
   ],
   "source": [
    "clusters = cluster(clabel)\n",
    "print(clusters)"
   ],
   "metadata": {
    "collapsed": false
   }
  },
  {
   "cell_type": "code",
   "execution_count": 100,
   "outputs": [
    {
     "name": "stdout",
     "output_type": "stream",
     "text": [
      "0.3307002439918144 0.09635353409377896\n"
     ]
    }
   ],
   "source": [
    "print(davies_bouldin_score(obj(data),clabel),silhouette_score(obj(data),clabel))"
   ],
   "metadata": {
    "collapsed": false
   }
  }
 ],
 "metadata": {
  "kernelspec": {
   "display_name": "Python 3",
   "language": "python",
   "name": "python3"
  },
  "language_info": {
   "codemirror_mode": {
    "name": "ipython",
    "version": 2
   },
   "file_extension": ".py",
   "mimetype": "text/x-python",
   "name": "python",
   "nbconvert_exporter": "python",
   "pygments_lexer": "ipython2",
   "version": "2.7.6"
  }
 },
 "nbformat": 4,
 "nbformat_minor": 0
}
